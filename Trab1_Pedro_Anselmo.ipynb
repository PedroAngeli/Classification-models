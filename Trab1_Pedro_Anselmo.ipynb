{
 "cells": [
  {
   "cell_type": "code",
   "execution_count": 1,
   "id": "b2405dc0",
   "metadata": {},
   "outputs": [],
   "source": [
    "%load_ext autoreload\n",
    "%autoreload 2\n",
    "#Utilizando autoreload para atualizar as funções dos arquivos importados localmente"
   ]
  },
  {
   "cell_type": "markdown",
   "id": "8e0ad966",
   "metadata": {},
   "source": [
    "# Treinamento dos Classificadores utilizando a base de dados digits"
   ]
  },
  {
   "cell_type": "code",
   "execution_count": 2,
   "id": "36ad837c",
   "metadata": {},
   "outputs": [],
   "source": [
    "from sklearn import datasets\n",
    "(digits_data, digits_target) = datasets.load_digits(return_X_y=True) #importando a base de dados"
   ]
  },
  {
   "cell_type": "markdown",
   "id": "d62474fd",
   "metadata": {},
   "source": [
    "### Random Forest"
   ]
  },
  {
   "cell_type": "code",
   "execution_count": 3,
   "id": "a52d9b7a",
   "metadata": {},
   "outputs": [
    {
     "name": "stdout",
     "output_type": "stream",
     "text": [
      "Treinando Random Forest...\n",
      "Finalizado!\n"
     ]
    }
   ],
   "source": [
    "from RandomForest import *\n",
    "rf = RandomForest()\n",
    "rf.fit(x = digits_data,y = digits_target)"
   ]
  },
  {
   "cell_type": "code",
   "execution_count": 4,
   "id": "d0a81917",
   "metadata": {},
   "outputs": [],
   "source": [
    "(rf_mean, rf_std, rf_inf, rf_sup) = rf.results()"
   ]
  },
  {
   "cell_type": "markdown",
   "id": "b6a264fb",
   "metadata": {},
   "source": [
    "### AdaBoost"
   ]
  },
  {
   "cell_type": "code",
   "execution_count": 5,
   "id": "409d93ae",
   "metadata": {},
   "outputs": [
    {
     "name": "stdout",
     "output_type": "stream",
     "text": [
      "Treinando AdaBoost...\n",
      "Finalizado!\n"
     ]
    }
   ],
   "source": [
    "from AdaBoost import *\n",
    "adaBoost = AdaBoost()\n",
    "adaBoost.fit(x = digits_data,y = digits_target)"
   ]
  },
  {
   "cell_type": "code",
   "execution_count": 6,
   "id": "49dfc3bc",
   "metadata": {},
   "outputs": [],
   "source": [
    "(adaBoost_mean, adaBoost_std, adaBoost_inf, adaBoost_sup) = adaBoost.results()"
   ]
  },
  {
   "cell_type": "markdown",
   "id": "4e5b8f55",
   "metadata": {},
   "source": [
    "### Bagging"
   ]
  },
  {
   "cell_type": "code",
   "execution_count": 7,
   "id": "308c4de0",
   "metadata": {},
   "outputs": [
    {
     "name": "stdout",
     "output_type": "stream",
     "text": [
      "Treinando Bagging...\n",
      "Finalizado!\n"
     ]
    }
   ],
   "source": [
    "from Bagging import *\n",
    "bagging = Bagging()\n",
    "bagging.fit(x = digits_data, y = digits_target)"
   ]
  },
  {
   "cell_type": "code",
   "execution_count": 8,
   "id": "8de52eed",
   "metadata": {},
   "outputs": [],
   "source": [
    "(bagging_mean, bagging_std, bagging_inf, bagging_sup) = bagging.results()"
   ]
  },
  {
   "cell_type": "markdown",
   "id": "51525b8d",
   "metadata": {},
   "source": [
    "### Heterogeneous Pooling"
   ]
  },
  {
   "cell_type": "code",
   "execution_count": 9,
   "id": "de1e6d0e",
   "metadata": {},
   "outputs": [
    {
     "name": "stdout",
     "output_type": "stream",
     "text": [
      "Treinando Heterogeneous Pooling...\n",
      "Finalizado!\n"
     ]
    }
   ],
   "source": [
    "from HeterogeneousPooling import *\n",
    "heterogeneousPooling = HeterogeneousPooling()\n",
    "heterogeneousPooling.fit(x = digits_data, y = digits_target)"
   ]
  },
  {
   "cell_type": "code",
   "execution_count": 10,
   "id": "3cf4b4c7",
   "metadata": {},
   "outputs": [],
   "source": [
    "(heterogeneousPooling_mean, heterogeneousPooling_std, heterogeneousPooling_inf, heterogeneousPooling_sup) = heterogeneousPooling.results()"
   ]
  },
  {
   "cell_type": "markdown",
   "id": "24801d1c",
   "metadata": {},
   "source": [
    "### Tabela com resultados"
   ]
  },
  {
   "cell_type": "code",
   "execution_count": 11,
   "id": "77ebb3a5",
   "metadata": {},
   "outputs": [
    {
     "data": {
      "text/html": [
       "<div>\n",
       "<style scoped>\n",
       "    .dataframe tbody tr th:only-of-type {\n",
       "        vertical-align: middle;\n",
       "    }\n",
       "\n",
       "    .dataframe tbody tr th {\n",
       "        vertical-align: top;\n",
       "    }\n",
       "\n",
       "    .dataframe thead th {\n",
       "        text-align: right;\n",
       "    }\n",
       "</style>\n",
       "<table border=\"1\" class=\"dataframe\">\n",
       "  <thead>\n",
       "    <tr style=\"text-align: right;\">\n",
       "      <th></th>\n",
       "      <th>Média</th>\n",
       "      <th>Desvio Padrão</th>\n",
       "      <th>Limite Inferior</th>\n",
       "      <th>Limite Superior</th>\n",
       "    </tr>\n",
       "  </thead>\n",
       "  <tbody>\n",
       "    <tr>\n",
       "      <th>Bagging</th>\n",
       "      <td>0.953635</td>\n",
       "      <td>0.014070</td>\n",
       "      <td>0.948601</td>\n",
       "      <td>0.958670</td>\n",
       "    </tr>\n",
       "    <tr>\n",
       "      <th>AdaBoost</th>\n",
       "      <td>0.269692</td>\n",
       "      <td>0.022391</td>\n",
       "      <td>0.261679</td>\n",
       "      <td>0.277704</td>\n",
       "    </tr>\n",
       "    <tr>\n",
       "      <th>RandomForest</th>\n",
       "      <td>0.975884</td>\n",
       "      <td>0.009246</td>\n",
       "      <td>0.972575</td>\n",
       "      <td>0.979192</td>\n",
       "    </tr>\n",
       "    <tr>\n",
       "      <th>HeterogeneousPooling</th>\n",
       "      <td>0.965506</td>\n",
       "      <td>0.012280</td>\n",
       "      <td>0.961111</td>\n",
       "      <td>0.969900</td>\n",
       "    </tr>\n",
       "  </tbody>\n",
       "</table>\n",
       "</div>"
      ],
      "text/plain": [
       "                         Média  Desvio Padrão  Limite Inferior  \\\n",
       "Bagging               0.953635       0.014070         0.948601   \n",
       "AdaBoost              0.269692       0.022391         0.261679   \n",
       "RandomForest          0.975884       0.009246         0.972575   \n",
       "HeterogeneousPooling  0.965506       0.012280         0.961111   \n",
       "\n",
       "                      Limite Superior  \n",
       "Bagging                      0.958670  \n",
       "AdaBoost                     0.277704  \n",
       "RandomForest                 0.979192  \n",
       "HeterogeneousPooling         0.969900  "
      ]
     },
     "execution_count": 11,
     "metadata": {},
     "output_type": "execute_result"
    }
   ],
   "source": [
    "import pandas as pd\n",
    "import matplotlib.pyplot as plt\n",
    "\n",
    "digits_table = pd.DataFrame(data={'Média':[bagging_mean, adaBoost_mean, rf_mean, heterogeneousPooling_mean],\n",
    "                                  'Desvio Padrão':[bagging_std, adaBoost_std, rf_std, heterogeneousPooling_std],\n",
    "                                  'Limite Inferior':[bagging_inf, adaBoost_inf, rf_inf, heterogeneousPooling_inf],\n",
    "                                  'Limite Superior':[bagging_sup, adaBoost_sup, rf_sup, heterogeneousPooling_sup]},\n",
    "                            index=['Bagging', 'AdaBoost', 'RandomForest', 'HeterogeneousPooling'])\n",
    "digits_table"
   ]
  },
  {
   "cell_type": "markdown",
   "id": "5abb5bd0",
   "metadata": {},
   "source": [
    "### Boxplot com resultados"
   ]
  },
  {
   "cell_type": "code",
   "execution_count": 12,
   "id": "bd99829f",
   "metadata": {},
   "outputs": [
    {
     "data": {
      "text/plain": [
       "<seaborn.axisgrid.FacetGrid at 0x7f957ee27d00>"
      ]
     },
     "execution_count": 12,
     "metadata": {},
     "output_type": "execute_result"
    },
    {
     "data": {
      "image/png": "[encoded data removed]",
      "text/plain": [
       "<Figure size 691.2x576 with 1 Axes>"
      ]
     },
     "metadata": {
      "needs_background": "light"
     },
     "output_type": "display_data"
    }
   ],
   "source": [
    "import seaborn as sns\n",
    "import pandas as pd\n",
    "\n",
    "scores = pd.DataFrame(data={'RandomForest': rf.getScores(),\n",
    "                            'Bagging': bagging.getScores(),\n",
    "                            'AdaBoost': adaBoost.getScores(),\n",
    "                            'Heterogeneous Pooling': heterogeneousPooling.getScores()})\n",
    "ax = sns.catplot(data=scores, kind=\"box\", height=8, aspect=1.2)\n",
    "ax.set(ylabel='Acurácia')"
   ]
  },
  {
   "cell_type": "markdown",
   "id": "27c39e56",
   "metadata": {},
   "source": [
    "### Testes de hipótese"
   ]
  },
  {
   "cell_type": "code",
   "execution_count": 13,
   "id": "c2545476",
   "metadata": {},
   "outputs": [
    {
     "data": {
      "text/html": [
       "<style  type=\"text/css\" >\n",
       "#T_d8a0f_row0_col1,#T_d8a0f_row0_col2,#T_d8a0f_row0_col3,#T_d8a0f_row1_col0,#T_d8a0f_row1_col2,#T_d8a0f_row1_col3,#T_d8a0f_row2_col0,#T_d8a0f_row2_col1,#T_d8a0f_row2_col3,#T_d8a0f_row3_col0,#T_d8a0f_row3_col1,#T_d8a0f_row3_col2{\n",
       "            font-weight:  bold;\n",
       "        }</style><table id=\"T_d8a0f_\" ><thead>    <tr>        <th class=\"col_heading level0 col0\" >0</th>        <th class=\"col_heading level0 col1\" >1</th>        <th class=\"col_heading level0 col2\" >2</th>        <th class=\"col_heading level0 col3\" >3</th>    </tr></thead><tbody>\n",
       "                <tr>\n",
       "                                <td id=\"T_d8a0f_row0_col0\" class=\"data row0 col0\" >Bagging</td>\n",
       "                        <td id=\"T_d8a0f_row0_col1\" class=\"data row0 col1\" >0.000000</td>\n",
       "                        <td id=\"T_d8a0f_row0_col2\" class=\"data row0 col2\" >0.000000</td>\n",
       "                        <td id=\"T_d8a0f_row0_col3\" class=\"data row0 col3\" >0.001122</td>\n",
       "            </tr>\n",
       "            <tr>\n",
       "                                <td id=\"T_d8a0f_row1_col0\" class=\"data row1 col0\" >0.000002</td>\n",
       "                        <td id=\"T_d8a0f_row1_col1\" class=\"data row1 col1\" >AdaBoost</td>\n",
       "                        <td id=\"T_d8a0f_row1_col2\" class=\"data row1 col2\" >0.000000</td>\n",
       "                        <td id=\"T_d8a0f_row1_col3\" class=\"data row1 col3\" >0.000000</td>\n",
       "            </tr>\n",
       "            <tr>\n",
       "                                <td id=\"T_d8a0f_row2_col0\" class=\"data row2 col0\" >0.000004</td>\n",
       "                        <td id=\"T_d8a0f_row2_col1\" class=\"data row2 col1\" >0.000002</td>\n",
       "                        <td id=\"T_d8a0f_row2_col2\" class=\"data row2 col2\" >RandomForest</td>\n",
       "                        <td id=\"T_d8a0f_row2_col3\" class=\"data row2 col3\" >0.000138</td>\n",
       "            </tr>\n",
       "            <tr>\n",
       "                                <td id=\"T_d8a0f_row3_col0\" class=\"data row3 col0\" >0.001484</td>\n",
       "                        <td id=\"T_d8a0f_row3_col1\" class=\"data row3 col1\" >0.000002</td>\n",
       "                        <td id=\"T_d8a0f_row3_col2\" class=\"data row3 col2\" >0.000422</td>\n",
       "                        <td id=\"T_d8a0f_row3_col3\" class=\"data row3 col3\" >Heterogeneous</td>\n",
       "            </tr>\n",
       "    </tbody></table>"
      ],
      "text/plain": [
       "<pandas.io.formats.style.Styler at 0x7f957e13e160>"
      ]
     },
     "execution_count": 13,
     "metadata": {},
     "output_type": "execute_result"
    }
   ],
   "source": [
    "from scipy.stats import ttest_rel, wilcoxon\n",
    "import pandas as pd\n",
    "\n",
    "labels = ['Bagging', 'AdaBoost', 'RandomForest', 'Heterogeneous']\n",
    "models = [bagging.getScores(), adaBoost.getScores(), rf.getScores(), heterogeneousPooling.getScores()]\n",
    "p_table = pd.DataFrame(index=range(4),columns=range(4))\n",
    "\n",
    "for i in range(4):\n",
    "    for j in range(4):\n",
    "        if i == j:\n",
    "            p_table.loc[i, j] = labels[i]\n",
    "        elif j > i:\n",
    "            _, p = ttest_rel(models[i], models[j])\n",
    "            p_table.loc[i, j] = p\n",
    "        else:\n",
    "            _, p = wilcoxon(models[i], models[j])\n",
    "            p_table.loc[i, j] = p\n",
    "            \n",
    "p_table.style.applymap(lambda v: '' if type(v) == str or v >= 0.05 else 'font-weight: bold').hide_index()"
   ]
  },
  {
   "cell_type": "markdown",
   "id": "a3303737",
   "metadata": {},
   "source": [
    "# Treinamento dos Classificadores utilizando a base de dados wine"
   ]
  },
  {
   "cell_type": "code",
   "execution_count": 140,
   "id": "c50e7fdb",
   "metadata": {},
   "outputs": [],
   "source": [
    "from sklearn import datasets\n",
    "(wine_data, wine_target) = datasets.load_wine(return_X_y=True) #importando a base de dados"
   ]
  },
  {
   "cell_type": "markdown",
   "id": "6e76c418",
   "metadata": {},
   "source": [
    "### Random Forest"
   ]
  },
  {
   "cell_type": "code",
   "execution_count": 141,
   "id": "f44beae0",
   "metadata": {},
   "outputs": [
    {
     "name": "stdout",
     "output_type": "stream",
     "text": [
      "Treinando Random Forest...\n",
      "Finalizado!\n"
     ]
    }
   ],
   "source": [
    "from RandomForest import *\n",
    "rf = RandomForest()\n",
    "rf.fit(x = wine_data,y = wine_target)"
   ]
  },
  {
   "cell_type": "code",
   "execution_count": 142,
   "id": "15da6f80",
   "metadata": {},
   "outputs": [],
   "source": [
    "(rf_mean, rf_std, rf_inf, rf_sup) = rf.results()"
   ]
  },
  {
   "cell_type": "markdown",
   "id": "4b01a252",
   "metadata": {},
   "source": [
    "### AdaBoost"
   ]
  },
  {
   "cell_type": "code",
   "execution_count": 143,
   "id": "212258ed",
   "metadata": {},
   "outputs": [
    {
     "name": "stdout",
     "output_type": "stream",
     "text": [
      "Treinando AdaBoost...\n",
      "Finalizado!\n"
     ]
    }
   ],
   "source": [
    "from AdaBoost import *\n",
    "adaBoost = AdaBoost()\n",
    "adaBoost.fit(x = wine_data,y = wine_target)"
   ]
  },
  {
   "cell_type": "code",
   "execution_count": 144,
   "id": "239b6ac9",
   "metadata": {},
   "outputs": [],
   "source": [
    "(adaBoost_mean, adaBoost_std, adaBoost_inf, adaBoost_sup) = adaBoost.results()"
   ]
  },
  {
   "cell_type": "markdown",
   "id": "8583bfc9",
   "metadata": {},
   "source": [
    "### Bagging"
   ]
  },
  {
   "cell_type": "code",
   "execution_count": 145,
   "id": "f378048a",
   "metadata": {},
   "outputs": [
    {
     "name": "stdout",
     "output_type": "stream",
     "text": [
      "Treinando Bagging...\n",
      "Finalizado!\n"
     ]
    }
   ],
   "source": [
    "from Bagging import *\n",
    "bagging = Bagging()\n",
    "bagging.fit(x = wine_data, y = wine_target)"
   ]
  },
  {
   "cell_type": "code",
   "execution_count": 146,
   "id": "b1f67061",
   "metadata": {},
   "outputs": [],
   "source": [
    "(bagging_mean, bagging_std, bagging_inf, bagging_sup) = bagging.results()"
   ]
  },
  {
   "cell_type": "markdown",
   "id": "2414ea94",
   "metadata": {},
   "source": [
    "### Heterogeneous Pooling"
   ]
  },
  {
   "cell_type": "code",
   "execution_count": 147,
   "id": "0ddb1da9",
   "metadata": {},
   "outputs": [
    {
     "name": "stdout",
     "output_type": "stream",
     "text": [
      "Treinando Heterogeneous Pooling...\n",
      "Finalizado!\n"
     ]
    }
   ],
   "source": [
    "from HeterogeneousPooling import *\n",
    "heterogeneousPooling = HeterogeneousPooling()\n",
    "heterogeneousPooling.fit(x = wine_data, y = wine_target)"
   ]
  },
  {
   "cell_type": "code",
   "execution_count": 148,
   "id": "9d2ef687",
   "metadata": {},
   "outputs": [],
   "source": [
    "(heterogeneousPooling_mean, heterogeneousPooling_std, heterogeneousPooling_inf, heterogeneousPooling_sup) = heterogeneousPooling.results()"
   ]
  },
  {
   "cell_type": "markdown",
   "id": "b5b98f5b",
   "metadata": {},
   "source": [
    "### Tabela com resultados"
   ]
  },
  {
   "cell_type": "code",
   "execution_count": 149,
   "id": "956d4b26",
   "metadata": {},
   "outputs": [
    {
     "data": {
      "text/html": [
       "<div>\n",
       "<style scoped>\n",
       "    .dataframe tbody tr th:only-of-type {\n",
       "        vertical-align: middle;\n",
       "    }\n",
       "\n",
       "    .dataframe tbody tr th {\n",
       "        vertical-align: top;\n",
       "    }\n",
       "\n",
       "    .dataframe thead th {\n",
       "        text-align: right;\n",
       "    }\n",
       "</style>\n",
       "<table border=\"1\" class=\"dataframe\">\n",
       "  <thead>\n",
       "    <tr style=\"text-align: right;\">\n",
       "      <th></th>\n",
       "      <th>Média</th>\n",
       "      <th>Desvio Padrão</th>\n",
       "      <th>Limite Inferior</th>\n",
       "      <th>Limite Superior</th>\n",
       "    </tr>\n",
       "  </thead>\n",
       "  <tbody>\n",
       "    <tr>\n",
       "      <th>Bagging</th>\n",
       "      <td>0.954902</td>\n",
       "      <td>0.067039</td>\n",
       "      <td>0.930913</td>\n",
       "      <td>0.978891</td>\n",
       "    </tr>\n",
       "    <tr>\n",
       "      <th>AdaBoost</th>\n",
       "      <td>0.914161</td>\n",
       "      <td>0.075790</td>\n",
       "      <td>0.887040</td>\n",
       "      <td>0.941282</td>\n",
       "    </tr>\n",
       "    <tr>\n",
       "      <th>RandomForest</th>\n",
       "      <td>0.975272</td>\n",
       "      <td>0.041213</td>\n",
       "      <td>0.960525</td>\n",
       "      <td>0.990020</td>\n",
       "    </tr>\n",
       "    <tr>\n",
       "      <th>HeterogeneousPooling</th>\n",
       "      <td>0.966122</td>\n",
       "      <td>0.061007</td>\n",
       "      <td>0.944291</td>\n",
       "      <td>0.987953</td>\n",
       "    </tr>\n",
       "  </tbody>\n",
       "</table>\n",
       "</div>"
      ],
      "text/plain": [
       "                         Média  Desvio Padrão  Limite Inferior  \\\n",
       "Bagging               0.954902       0.067039         0.930913   \n",
       "AdaBoost              0.914161       0.075790         0.887040   \n",
       "RandomForest          0.975272       0.041213         0.960525   \n",
       "HeterogeneousPooling  0.966122       0.061007         0.944291   \n",
       "\n",
       "                      Limite Superior  \n",
       "Bagging                      0.978891  \n",
       "AdaBoost                     0.941282  \n",
       "RandomForest                 0.990020  \n",
       "HeterogeneousPooling         0.987953  "
      ]
     },
     "execution_count": 149,
     "metadata": {},
     "output_type": "execute_result"
    }
   ],
   "source": [
    "import pandas as pd\n",
    "\n",
    "wine_table = pd.DataFrame(data={'Média':[bagging_mean, adaBoost_mean, rf_mean, heterogeneousPooling_mean],\n",
    "                                  'Desvio Padrão':[bagging_std, adaBoost_std, rf_std, heterogeneousPooling_std],\n",
    "                                  'Limite Inferior':[bagging_inf, adaBoost_inf, rf_inf, heterogeneousPooling_inf],\n",
    "                                  'Limite Superior':[bagging_sup, adaBoost_sup, rf_sup, heterogeneousPooling_sup]},\n",
    "                            index=['Bagging', 'AdaBoost', 'RandomForest', 'HeterogeneousPooling'])\n",
    "wine_table"
   ]
  },
  {
   "cell_type": "markdown",
   "id": "2ed86f49",
   "metadata": {},
   "source": [
    "### Boxplot com resultados"
   ]
  },
  {
   "cell_type": "code",
   "execution_count": 150,
   "id": "0d7a76b3",
   "metadata": {},
   "outputs": [
    {
     "data": {
      "text/plain": [
       "<seaborn.axisgrid.FacetGrid at 0x7f798e905fd0>"
      ]
     },
     "execution_count": 150,
     "metadata": {},
     "output_type": "execute_result"
    },
    {
     "data": {
      "image/png": "[encoded data removed]",
      "text/plain": [
       "<Figure size 691.2x576 with 1 Axes>"
      ]
     },
     "metadata": {
      "needs_background": "light"
     },
     "output_type": "display_data"
    }
   ],
   "source": [
    "import seaborn as sns\n",
    "import pandas as pd\n",
    "\n",
    "scores = pd.DataFrame(data={'RandomForest': rf.getScores(),\n",
    "                            'Bagging': bagging.getScores(),\n",
    "                            'AdaBoost': adaBoost.getScores(),\n",
    "                            'Heterogeneous Pooling': heterogeneousPooling.getScores()})\n",
    "ax = sns.catplot(data=scores, kind=\"box\", height=8, aspect=1.2)\n",
    "ax.set(ylabel='Acurácia')"
   ]
  },
  {
   "cell_type": "markdown",
   "id": "e83a4a44",
   "metadata": {},
   "source": [
    "### Testes de hipótese"
   ]
  },
  {
   "cell_type": "code",
   "execution_count": 151,
   "id": "6bb72f57",
   "metadata": {},
   "outputs": [
    {
     "data": {
      "text/html": [
       "<style  type=\"text/css\" >\n",
       "#T_9dfb5_row0_col1,#T_9dfb5_row1_col0,#T_9dfb5_row1_col2,#T_9dfb5_row1_col3,#T_9dfb5_row2_col1,#T_9dfb5_row3_col1{\n",
       "            font-weight:  bold;\n",
       "        }</style><table id=\"T_9dfb5_\" ><thead>    <tr>        <th class=\"col_heading level0 col0\" >0</th>        <th class=\"col_heading level0 col1\" >1</th>        <th class=\"col_heading level0 col2\" >2</th>        <th class=\"col_heading level0 col3\" >3</th>    </tr></thead><tbody>\n",
       "                <tr>\n",
       "                                <td id=\"T_9dfb5_row0_col0\" class=\"data row0 col0\" >Bagging</td>\n",
       "                        <td id=\"T_9dfb5_row0_col1\" class=\"data row0 col1\" >0.046609</td>\n",
       "                        <td id=\"T_9dfb5_row0_col2\" class=\"data row0 col2\" >0.055760</td>\n",
       "                        <td id=\"T_9dfb5_row0_col3\" class=\"data row0 col3\" >0.286585</td>\n",
       "            </tr>\n",
       "            <tr>\n",
       "                                <td id=\"T_9dfb5_row1_col0\" class=\"data row1 col0\" >0.043248</td>\n",
       "                        <td id=\"T_9dfb5_row1_col1\" class=\"data row1 col1\" >AdaBoost</td>\n",
       "                        <td id=\"T_9dfb5_row1_col2\" class=\"data row1 col2\" >0.002136</td>\n",
       "                        <td id=\"T_9dfb5_row1_col3\" class=\"data row1 col3\" >0.008384</td>\n",
       "            </tr>\n",
       "            <tr>\n",
       "                                <td id=\"T_9dfb5_row2_col0\" class=\"data row2 col0\" >0.073206</td>\n",
       "                        <td id=\"T_9dfb5_row2_col1\" class=\"data row2 col1\" >0.005040</td>\n",
       "                        <td id=\"T_9dfb5_row2_col2\" class=\"data row2 col2\" >RandomForest</td>\n",
       "                        <td id=\"T_9dfb5_row2_col3\" class=\"data row2 col3\" >0.298218</td>\n",
       "            </tr>\n",
       "            <tr>\n",
       "                                <td id=\"T_9dfb5_row3_col0\" class=\"data row3 col0\" >0.272772</td>\n",
       "                        <td id=\"T_9dfb5_row3_col1\" class=\"data row3 col1\" >0.010605</td>\n",
       "                        <td id=\"T_9dfb5_row3_col2\" class=\"data row3 col2\" >0.378737</td>\n",
       "                        <td id=\"T_9dfb5_row3_col3\" class=\"data row3 col3\" >Heterogeneous</td>\n",
       "            </tr>\n",
       "    </tbody></table>"
      ],
      "text/plain": [
       "<pandas.io.formats.style.Styler at 0x7f798f8bd8e0>"
      ]
     },
     "execution_count": 151,
     "metadata": {},
     "output_type": "execute_result"
    }
   ],
   "source": [
    "from scipy.stats import ttest_rel, wilcoxon\n",
    "import pandas as pd\n",
    "\n",
    "labels = ['Bagging', 'AdaBoost', 'RandomForest', 'Heterogeneous']\n",
    "models = [bagging.getScores(), adaBoost.getScores(), rf.getScores(), heterogeneousPooling.getScores()]\n",
    "p_table = pd.DataFrame(index=range(4),columns=range(4))\n",
    "\n",
    "for i in range(4):\n",
    "    for j in range(4):\n",
    "        if i == j:\n",
    "            p_table.loc[i, j] = labels[i]\n",
    "        elif j > i:\n",
    "            _, p = ttest_rel(models[i], models[j])\n",
    "            p_table.loc[i, j] = p\n",
    "        else:\n",
    "            _, p = wilcoxon(models[i], models[j])\n",
    "            p_table.loc[i, j] = p\n",
    "            \n",
    "p_table.style.applymap(lambda v: '' if type(v) == str or v >= 0.05 else 'font-weight: bold').hide_index()"
   ]
  },
  {
   "cell_type": "markdown",
   "id": "fb82ca6b",
   "metadata": {},
   "source": [
    "# Treinamento dos Classificadores utilizando a base de dados breast cancer"
   ]
  },
  {
   "cell_type": "code",
   "execution_count": 5,
   "id": "997fe02b",
   "metadata": {},
   "outputs": [],
   "source": [
    "from sklearn import datasets\n",
    "(breast_cancer_data, breast_cancer_target) = datasets.load_breast_cancer(return_X_y=True) #importando a base de dados"
   ]
  },
  {
   "cell_type": "markdown",
   "id": "8bb18453",
   "metadata": {},
   "source": [
    "### Random Forest"
   ]
  },
  {
   "cell_type": "code",
   "execution_count": 6,
   "id": "e83a1b82",
   "metadata": {},
   "outputs": [
    {
     "name": "stdout",
     "output_type": "stream",
     "text": [
      "Treinando Random Forest...\n",
      "Finalizado!\n"
     ]
    }
   ],
   "source": [
    "from RandomForest import *\n",
    "rf = RandomForest()\n",
    "rf.fit(x = breast_cancer_data,y = breast_cancer_target)"
   ]
  },
  {
   "cell_type": "code",
   "execution_count": 7,
   "id": "def58f0c",
   "metadata": {},
   "outputs": [],
   "source": [
    "(rf_mean, rf_std, rf_inf, rf_sup) = rf.results()"
   ]
  },
  {
   "cell_type": "markdown",
   "id": "d8234279",
   "metadata": {},
   "source": [
    "### AdaBoost"
   ]
  },
  {
   "cell_type": "code",
   "execution_count": 8,
   "id": "fc7ec8ce",
   "metadata": {},
   "outputs": [
    {
     "name": "stdout",
     "output_type": "stream",
     "text": [
      "Treinando AdaBoost...\n",
      "Finalizado!\n"
     ]
    }
   ],
   "source": [
    "from AdaBoost import *\n",
    "adaBoost = AdaBoost()\n",
    "adaBoost.fit(x = breast_cancer_data,y = breast_cancer_target)"
   ]
  },
  {
   "cell_type": "code",
   "execution_count": 9,
   "id": "ad4e157a",
   "metadata": {},
   "outputs": [],
   "source": [
    "(adaBoost_mean, adaBoost_std, adaBoost_inf, adaBoost_sup) = adaBoost.results()"
   ]
  },
  {
   "cell_type": "markdown",
   "id": "4455e33e",
   "metadata": {},
   "source": [
    "### Bagging"
   ]
  },
  {
   "cell_type": "code",
   "execution_count": 10,
   "id": "3cb23715",
   "metadata": {},
   "outputs": [
    {
     "name": "stdout",
     "output_type": "stream",
     "text": [
      "Treinando Bagging...\n",
      "Finalizado!\n"
     ]
    }
   ],
   "source": [
    "from Bagging import *\n",
    "bagging = Bagging()\n",
    "bagging.fit(x = breast_cancer_data, y = breast_cancer_target)"
   ]
  },
  {
   "cell_type": "code",
   "execution_count": 11,
   "id": "a3e3ca2a",
   "metadata": {},
   "outputs": [],
   "source": [
    "(bagging_mean, bagging_std, bagging_inf, bagging_sup) = bagging.results()"
   ]
  },
  {
   "cell_type": "markdown",
   "id": "cdd0f16d",
   "metadata": {},
   "source": [
    "### Heterogeneous Pooling"
   ]
  },
  {
   "cell_type": "code",
   "execution_count": 12,
   "id": "2dc15b1c",
   "metadata": {},
   "outputs": [
    {
     "name": "stdout",
     "output_type": "stream",
     "text": [
      "Treinando Heterogeneous Pooling...\n",
      "Finalizado!\n"
     ]
    }
   ],
   "source": [
    "from HeterogeneousPooling import *\n",
    "heterogeneousPooling = HeterogeneousPooling()\n",
    "heterogeneousPooling.fit(x = breast_cancer_data, y = breast_cancer_target)"
   ]
  },
  {
   "cell_type": "code",
   "execution_count": 13,
   "id": "6f316b6c",
   "metadata": {},
   "outputs": [],
   "source": [
    "(heterogeneousPooling_mean, heterogeneousPooling_std, heterogeneousPooling_inf, heterogeneousPooling_sup) = heterogeneousPooling.results()"
   ]
  },
  {
   "cell_type": "markdown",
   "id": "ffd0a1e2",
   "metadata": {},
   "source": [
    "### Tabela com resultados"
   ]
  },
  {
   "cell_type": "code",
   "execution_count": 14,
   "id": "5d7f5b19",
   "metadata": {},
   "outputs": [
    {
     "data": {
      "text/html": [
       "<div>\n",
       "<style scoped>\n",
       "    .dataframe tbody tr th:only-of-type {\n",
       "        vertical-align: middle;\n",
       "    }\n",
       "\n",
       "    .dataframe tbody tr th {\n",
       "        vertical-align: top;\n",
       "    }\n",
       "\n",
       "    .dataframe thead th {\n",
       "        text-align: right;\n",
       "    }\n",
       "</style>\n",
       "<table border=\"1\" class=\"dataframe\">\n",
       "  <thead>\n",
       "    <tr style=\"text-align: right;\">\n",
       "      <th></th>\n",
       "      <th>Média</th>\n",
       "      <th>Desvio Padrão</th>\n",
       "      <th>Limite Inferior</th>\n",
       "      <th>Limite Superior</th>\n",
       "    </tr>\n",
       "  </thead>\n",
       "  <tbody>\n",
       "    <tr>\n",
       "      <th>Bagging</th>\n",
       "      <td>0.957822</td>\n",
       "      <td>0.024662</td>\n",
       "      <td>0.948997</td>\n",
       "      <td>0.966647</td>\n",
       "    </tr>\n",
       "    <tr>\n",
       "      <th>AdaBoost</th>\n",
       "      <td>0.967784</td>\n",
       "      <td>0.023573</td>\n",
       "      <td>0.959349</td>\n",
       "      <td>0.976219</td>\n",
       "    </tr>\n",
       "    <tr>\n",
       "      <th>RandomForest</th>\n",
       "      <td>0.960182</td>\n",
       "      <td>0.024379</td>\n",
       "      <td>0.951458</td>\n",
       "      <td>0.968905</td>\n",
       "    </tr>\n",
       "    <tr>\n",
       "      <th>HeterogeneousPooling</th>\n",
       "      <td>0.959566</td>\n",
       "      <td>0.024062</td>\n",
       "      <td>0.950955</td>\n",
       "      <td>0.968176</td>\n",
       "    </tr>\n",
       "  </tbody>\n",
       "</table>\n",
       "</div>"
      ],
      "text/plain": [
       "                         Média  Desvio Padrão  Limite Inferior  \\\n",
       "Bagging               0.957822       0.024662         0.948997   \n",
       "AdaBoost              0.967784       0.023573         0.959349   \n",
       "RandomForest          0.960182       0.024379         0.951458   \n",
       "HeterogeneousPooling  0.959566       0.024062         0.950955   \n",
       "\n",
       "                      Limite Superior  \n",
       "Bagging                      0.966647  \n",
       "AdaBoost                     0.976219  \n",
       "RandomForest                 0.968905  \n",
       "HeterogeneousPooling         0.968176  "
      ]
     },
     "execution_count": 14,
     "metadata": {},
     "output_type": "execute_result"
    }
   ],
   "source": [
    "import pandas as pd\n",
    "\n",
    "breast_cancer_table = pd.DataFrame(data={'Média':[bagging_mean, adaBoost_mean, rf_mean, heterogeneousPooling_mean],\n",
    "                                  'Desvio Padrão':[bagging_std, adaBoost_std, rf_std, heterogeneousPooling_std],\n",
    "                                  'Limite Inferior':[bagging_inf, adaBoost_inf, rf_inf, heterogeneousPooling_inf],\n",
    "                                  'Limite Superior':[bagging_sup, adaBoost_sup, rf_sup, heterogeneousPooling_sup]},\n",
    "                            index=['Bagging', 'AdaBoost', 'RandomForest', 'HeterogeneousPooling'])\n",
    "breast_cancer_table"
   ]
  },
  {
   "cell_type": "markdown",
   "id": "4fa9c4a9",
   "metadata": {},
   "source": [
    "### Boxplot com resultados"
   ]
  },
  {
   "cell_type": "code",
   "execution_count": 15,
   "id": "875e60df",
   "metadata": {},
   "outputs": [
    {
     "data": {
      "text/plain": [
       "<seaborn.axisgrid.FacetGrid at 0x7fde640bc9d0>"
      ]
     },
     "execution_count": 15,
     "metadata": {},
     "output_type": "execute_result"
    },
    {
     "data": {
      "image/png": "[encoded data removed]",
      "text/plain": [
       "<Figure size 691.2x576 with 1 Axes>"
      ]
     },
     "metadata": {
      "needs_background": "light"
     },
     "output_type": "display_data"
    }
   ],
   "source": [
    "import seaborn as sns\n",
    "import pandas as pd\n",
    "\n",
    "scores = pd.DataFrame(data={'RandomForest': rf.getScores(),\n",
    "                            'Bagging': bagging.getScores(),\n",
    "                            'AdaBoost': adaBoost.getScores(),\n",
    "                            'Heterogeneous Pooling': heterogeneousPooling.getScores()})\n",
    "ax = sns.catplot(data=scores, kind=\"box\", height=8, aspect=1.2)\n",
    "ax.set(ylabel='Acurácia')"
   ]
  },
  {
   "cell_type": "markdown",
   "id": "4a3d1e43",
   "metadata": {},
   "source": [
    "### Testes de hipótese"
   ]
  },
  {
   "cell_type": "code",
   "execution_count": 17,
   "id": "6e6285d1",
   "metadata": {},
   "outputs": [
    {
     "data": {
      "text/html": [
       "<style  type=\"text/css\" >\n",
       "#T_87fef_row0_col1,#T_87fef_row1_col0,#T_87fef_row1_col2,#T_87fef_row1_col3,#T_87fef_row3_col1{\n",
       "            font-weight:  bold;\n",
       "        }</style><table id=\"T_87fef_\" ><thead>    <tr>        <th class=\"col_heading level0 col0\" >0</th>        <th class=\"col_heading level0 col1\" >1</th>        <th class=\"col_heading level0 col2\" >2</th>        <th class=\"col_heading level0 col3\" >3</th>    </tr></thead><tbody>\n",
       "                <tr>\n",
       "                                <td id=\"T_87fef_row0_col0\" class=\"data row0 col0\" >Bagging</td>\n",
       "                        <td id=\"T_87fef_row0_col1\" class=\"data row0 col1\" >0.007077</td>\n",
       "                        <td id=\"T_87fef_row0_col2\" class=\"data row0 col2\" >0.420025</td>\n",
       "                        <td id=\"T_87fef_row0_col3\" class=\"data row0 col3\" >0.664886</td>\n",
       "            </tr>\n",
       "            <tr>\n",
       "                                <td id=\"T_87fef_row1_col0\" class=\"data row1 col0\" >0.006620</td>\n",
       "                        <td id=\"T_87fef_row1_col1\" class=\"data row1 col1\" >AdaBoost</td>\n",
       "                        <td id=\"T_87fef_row1_col2\" class=\"data row1 col2\" >0.030175</td>\n",
       "                        <td id=\"T_87fef_row1_col3\" class=\"data row1 col3\" >0.027835</td>\n",
       "            </tr>\n",
       "            <tr>\n",
       "                                <td id=\"T_87fef_row2_col0\" class=\"data row2 col0\" >0.350112</td>\n",
       "                        <td id=\"T_87fef_row2_col1\" class=\"data row2 col1\" >0.053309</td>\n",
       "                        <td id=\"T_87fef_row2_col2\" class=\"data row2 col2\" >RandomForest</td>\n",
       "                        <td id=\"T_87fef_row2_col3\" class=\"data row2 col3\" >0.873155</td>\n",
       "            </tr>\n",
       "            <tr>\n",
       "                                <td id=\"T_87fef_row3_col0\" class=\"data row3 col0\" >0.543010</td>\n",
       "                        <td id=\"T_87fef_row3_col1\" class=\"data row3 col1\" >0.041989</td>\n",
       "                        <td id=\"T_87fef_row3_col2\" class=\"data row3 col2\" >0.882257</td>\n",
       "                        <td id=\"T_87fef_row3_col3\" class=\"data row3 col3\" >Heterogeneous</td>\n",
       "            </tr>\n",
       "    </tbody></table>"
      ],
      "text/plain": [
       "<pandas.io.formats.style.Styler at 0x7fde61a3a670>"
      ]
     },
     "execution_count": 17,
     "metadata": {},
     "output_type": "execute_result"
    }
   ],
   "source": [
    "from scipy.stats import ttest_rel, wilcoxon\n",
    "import pandas as pd\n",
    "\n",
    "labels = ['Bagging', 'AdaBoost', 'RandomForest', 'Heterogeneous']\n",
    "models = [bagging.getScores(), adaBoost.getScores(), rf.getScores(), heterogeneousPooling.getScores()]\n",
    "p_table = pd.DataFrame(index=range(4),columns=range(4))\n",
    "\n",
    "for i in range(4):\n",
    "    for j in range(4):\n",
    "        if i == j:\n",
    "            p_table.loc[i, j] = labels[i]\n",
    "        elif j > i:\n",
    "            _, p = ttest_rel(models[i], models[j])\n",
    "            p_table.loc[i, j] = p\n",
    "        else:\n",
    "            _, p = wilcoxon(models[i], models[j])\n",
    "            p_table.loc[i, j] = p\n",
    "            \n",
    "p_table.style.applymap(lambda v: '' if type(v) == str or v >= 0.05 else 'font-weight: bold').hide_index()"
   ]
  },
  {
   "cell_type": "code",
   "execution_count": null,
   "id": "ff915796",
   "metadata": {},
   "outputs": [],
   "source": []
  }
 ],
 "metadata": {
  "interpreter": {
   "hash": "916dbcbb3f70747c44a77c7bcd40155683ae19c65e1c03b4aa3499c5328201f1"
  },
  "kernelspec": {
   "display_name": "Python 3",
   "language": "python",
   "name": "python3"
  },
  "language_info": {
   "codemirror_mode": {
    "name": "ipython",
    "version": 3
   },
   "file_extension": ".py",
   "mimetype": "text/x-python",
   "name": "python",
   "nbconvert_exporter": "python",
   "pygments_lexer": "ipython3",
   "version": "3.8.8"
  }
 },
 "nbformat": 4,
 "nbformat_minor": 5
}
